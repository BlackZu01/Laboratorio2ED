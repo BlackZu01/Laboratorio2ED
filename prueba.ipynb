{
 "cells": [
  {
   "cell_type": "code",
   "execution_count": 41,
   "metadata": {},
   "outputs": [],
   "source": [
    "from classes.Node import Node\n",
    "\n",
    "class CircularLinkedList:\n",
    "\n",
    "    \n",
    "\n",
    "    def __init__(self) -> None:\n",
    "        self.currentNode = None\n",
    "        self.ROOT = Node(None, None)\n",
    "        self.TAIL = Node(None, None)\n",
    "        self.prev = None\n",
    "        self.ROOT.next = self.TAIL\n",
    "        self.TAIL.next = self.ROOT\n",
    "        self.size = 0\n",
    "\n",
    "    def addNode(self, node: Node) -> None:\n",
    "        P = node\n",
    "\n",
    "        if self.ROOT.data == None:\n",
    "            self.ROOT = P\n",
    "            self.TAIL = P\n",
    "        else:\n",
    "            self.TAIL.next = P\n",
    "            self.TAIL = P\n",
    "        self.TAIL.next = self.ROOT\n",
    "        self.size += 1\n",
    "    \n",
    "    def first(self):\n",
    "        self.currentNode = None\n",
    "        return self.next()\n",
    "\n",
    "    def displayList(self) -> None:\n",
    "        self.current = self.ROOT\n",
    "\n",
    "        if self.ROOT == None:\n",
    "            print('[+] La lista esta vacía !!!')\n",
    "            return\n",
    "        print('[+] Current nodes:')\n",
    "        print(f'\\t{self.current.data}')\n",
    "        while self.current.next != self.ROOT:\n",
    "            self.current = self.current.next\n",
    "            print(f'\\t{self.current.data}')\n",
    "\n",
    "    def next(self):\n",
    "        \n",
    "        if self.currentNode == None:\n",
    "            self.currentNode = self.ROOT\n",
    "            return self.currentNode\n",
    "        \n",
    "        self.currentNode = self.currentNode.next\n",
    "        return self.currentNode\n",
    "        \n",
    "        \n",
    "    def addNodeAlreadyCreated(self, moveNode: Node, newNode: Node) -> None:\n",
    "        P = self.ROOT  \n",
    "        \n",
    "        while P.data != moveNode.data:\n",
    "            # print(f'{self.prev} - {P.data}')\n",
    "            self.prev = P  \n",
    "            P = P.next       \n",
    "\n",
    "        temp = self.prev.next\n",
    "        self.prev.next = newNode\n",
    "        newNode.next = moveNode\n",
    "        \n",
    "\n",
    "    def __len__(self):\n",
    "        return self.size\n",
    "\n",
    "    def removeNode(self, node: Node) -> None:\n",
    "        if (self.ROOT == None):\n",
    "            print(\"Empty list\")\n",
    "        \n",
    "        \n",
    "        p = self.ROOT\n",
    "        i = 0\n",
    "        while i <= len(self):\n",
    "            if p.data == node.data:\n",
    "                break\n",
    "            temp = p\n",
    "            p = p.next\n",
    "            i += 1\n",
    "        if i > len(self):\n",
    "            print('User with mail', node.data, 'is not found\\n')\n",
    "            return False\n",
    "        if p == self.ROOT:\n",
    "            self.TAIL.next = self.ROOT.next\n",
    "            self.ROOT = self.ROOT.next\n",
    "            p.next = None\n",
    "            self.size -= 1\n",
    "            return p\n",
    "        elif p == self.TAIL:\n",
    "            i = 0\n",
    "            position = len(self) - 1\n",
    "            while i < position:\n",
    "                p = p.next\n",
    "                i += 1\n",
    "            p.next.next = None\n",
    "            p.next = self.ROOT\n",
    "            self.size -= 1\n",
    "            return p\n",
    "        else:\n",
    "            temp.next = p.next\n",
    "            self.size -= 1\n",
    "            return p\n",
    "    \n",
    "    def reverseList(self):\n",
    "        current = self.ROOT\n",
    "        prev = None\n",
    "        while current != None:\n",
    "            self.next = current.next\n",
    "            current.next = prev\n",
    "            prev = current\n",
    "            current = self.next\n",
    "        DROOT = prev\n",
    "        temp = self.ROOT\n",
    "        self.ROOT = self.ROOT.next\n",
    "        self.TAIL = temp\n",
    "        self.TAIL.next = self.ROOT\n",
    "        return DROOT\n",
    "\n",
    "    def __repr__(self) -> str:\n",
    "        respuesta = ''\n",
    "        P = self.ROOT\n",
    "        respuesta = str(P.data) + ' -> '\n",
    "        P = P.next\n",
    "        \n",
    "        while P != self.ROOT:\n",
    "            respuesta += str(P.data) + ' -> '\n",
    "            P = P.next\n",
    "        respuesta += str(P.data)    \n",
    "        return respuesta"
   ]
  },
  {
   "cell_type": "code",
   "execution_count": 42,
   "metadata": {},
   "outputs": [
    {
     "data": {
      "text/plain": [
       "1 -> 2 -> 3 -> 4 -> 1"
      ]
     },
     "execution_count": 42,
     "metadata": {},
     "output_type": "execute_result"
    }
   ],
   "source": [
    "circular = CircularLinkedList()\n",
    "\n",
    "nodo1 = Node(1, 0)\n",
    "nodo2 = Node(2, 0)\n",
    "nodo3 = Node(3, 0)\n",
    "nodo4 = Node(4, 0)\n",
    "\n",
    "circular.addNode(nodo1)\n",
    "circular.addNode(nodo2)\n",
    "circular.addNode(nodo3)\n",
    "circular.addNode(nodo4)\n",
    "\n",
    "circular"
   ]
  },
  {
   "cell_type": "code",
   "execution_count": 43,
   "metadata": {},
   "outputs": [
    {
     "data": {
      "text/plain": [
       "1: 0"
      ]
     },
     "execution_count": 43,
     "metadata": {},
     "output_type": "execute_result"
    }
   ],
   "source": [
    "circular.removeNode(nodo1)"
   ]
  },
  {
   "cell_type": "code",
   "execution_count": 44,
   "metadata": {},
   "outputs": [
    {
     "data": {
      "text/plain": [
       "2 -> 3 -> 4 -> 2"
      ]
     },
     "execution_count": 44,
     "metadata": {},
     "output_type": "execute_result"
    }
   ],
   "source": [
    "circular"
   ]
  },
  {
   "cell_type": "code",
   "execution_count": 45,
   "metadata": {},
   "outputs": [
    {
     "data": {
      "text/plain": [
       "2: 0"
      ]
     },
     "execution_count": 45,
     "metadata": {},
     "output_type": "execute_result"
    }
   ],
   "source": [
    "circular.removeNode(nodo2)"
   ]
  },
  {
   "cell_type": "code",
   "execution_count": 46,
   "metadata": {},
   "outputs": [
    {
     "data": {
      "text/plain": [
       "3: 0"
      ]
     },
     "execution_count": 46,
     "metadata": {},
     "output_type": "execute_result"
    }
   ],
   "source": [
    "circular.removeNode(nodo4)"
   ]
  },
  {
   "cell_type": "code",
   "execution_count": 47,
   "metadata": {},
   "outputs": [
    {
     "data": {
      "text/plain": [
       "3 -> 3"
      ]
     },
     "execution_count": 47,
     "metadata": {},
     "output_type": "execute_result"
    }
   ],
   "source": [
    "circular"
   ]
  }
 ],
 "metadata": {
  "kernelspec": {
   "display_name": "Python 3.10.6 64-bit",
   "language": "python",
   "name": "python3"
  },
  "language_info": {
   "codemirror_mode": {
    "name": "ipython",
    "version": 3
   },
   "file_extension": ".py",
   "mimetype": "text/x-python",
   "name": "python",
   "nbconvert_exporter": "python",
   "pygments_lexer": "ipython3",
   "version": "3.10.6"
  },
  "orig_nbformat": 4,
  "vscode": {
   "interpreter": {
    "hash": "916dbcbb3f70747c44a77c7bcd40155683ae19c65e1c03b4aa3499c5328201f1"
   }
  }
 },
 "nbformat": 4,
 "nbformat_minor": 2
}
