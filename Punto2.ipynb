{
 "cells": [
  {
   "cell_type": "code",
   "execution_count": 1,
   "metadata": {},
   "outputs": [],
   "source": [
    "import pandas as pd\n",
    "from classes.CircularLinkedList import CircularLinkedList\n",
    "from classes.Node import Node"
   ]
  },
  {
   "cell_type": "code",
   "execution_count": 2,
   "metadata": {},
   "outputs": [
    {
     "data": {
      "text/html": [
       "<div>\n",
       "<style scoped>\n",
       "    .dataframe tbody tr th:only-of-type {\n",
       "        vertical-align: middle;\n",
       "    }\n",
       "\n",
       "    .dataframe tbody tr th {\n",
       "        vertical-align: top;\n",
       "    }\n",
       "\n",
       "    .dataframe thead th {\n",
       "        text-align: right;\n",
       "    }\n",
       "</style>\n",
       "<table border=\"1\" class=\"dataframe\">\n",
       "  <thead>\n",
       "    <tr style=\"text-align: right;\">\n",
       "      <th></th>\n",
       "      <th>Neighborhood</th>\n",
       "      <th>School</th>\n",
       "      <th>Gym</th>\n",
       "      <th>Bar</th>\n",
       "      <th>Shop</th>\n",
       "      <th>Park</th>\n",
       "    </tr>\n",
       "  </thead>\n",
       "  <tbody>\n",
       "    <tr>\n",
       "      <th>0</th>\n",
       "      <td>Adela de Char.</td>\n",
       "      <td>0</td>\n",
       "      <td>0</td>\n",
       "      <td>0</td>\n",
       "      <td>1</td>\n",
       "      <td>0</td>\n",
       "    </tr>\n",
       "    <tr>\n",
       "      <th>1</th>\n",
       "      <td>Adelita de Char Etp. 2</td>\n",
       "      <td>1</td>\n",
       "      <td>0</td>\n",
       "      <td>1</td>\n",
       "      <td>1</td>\n",
       "      <td>0</td>\n",
       "    </tr>\n",
       "    <tr>\n",
       "      <th>2</th>\n",
       "      <td>Altamira.</td>\n",
       "      <td>1</td>\n",
       "      <td>1</td>\n",
       "      <td>0</td>\n",
       "      <td>1</td>\n",
       "      <td>1</td>\n",
       "    </tr>\n",
       "    <tr>\n",
       "      <th>3</th>\n",
       "      <td>Altos de Riomar.</td>\n",
       "      <td>1</td>\n",
       "      <td>1</td>\n",
       "      <td>1</td>\n",
       "      <td>0</td>\n",
       "      <td>1</td>\n",
       "    </tr>\n",
       "    <tr>\n",
       "      <th>4</th>\n",
       "      <td>Altos del Limón.</td>\n",
       "      <td>0</td>\n",
       "      <td>0</td>\n",
       "      <td>1</td>\n",
       "      <td>0</td>\n",
       "      <td>1</td>\n",
       "    </tr>\n",
       "    <tr>\n",
       "      <th>...</th>\n",
       "      <td>...</td>\n",
       "      <td>...</td>\n",
       "      <td>...</td>\n",
       "      <td>...</td>\n",
       "      <td>...</td>\n",
       "      <td>...</td>\n",
       "    </tr>\n",
       "    <tr>\n",
       "      <th>184</th>\n",
       "      <td>Tayrona.</td>\n",
       "      <td>1</td>\n",
       "      <td>1</td>\n",
       "      <td>1</td>\n",
       "      <td>1</td>\n",
       "      <td>1</td>\n",
       "    </tr>\n",
       "    <tr>\n",
       "      <th>185</th>\n",
       "      <td>Universal I y II.</td>\n",
       "      <td>0</td>\n",
       "      <td>1</td>\n",
       "      <td>0</td>\n",
       "      <td>0</td>\n",
       "      <td>1</td>\n",
       "    </tr>\n",
       "    <tr>\n",
       "      <th>186</th>\n",
       "      <td>Villa Blanca.</td>\n",
       "      <td>0</td>\n",
       "      <td>1</td>\n",
       "      <td>1</td>\n",
       "      <td>1</td>\n",
       "      <td>1</td>\n",
       "    </tr>\n",
       "    <tr>\n",
       "      <th>187</th>\n",
       "      <td>Villa del Carmen.</td>\n",
       "      <td>0</td>\n",
       "      <td>1</td>\n",
       "      <td>1</td>\n",
       "      <td>1</td>\n",
       "      <td>1</td>\n",
       "    </tr>\n",
       "    <tr>\n",
       "      <th>188</th>\n",
       "      <td>Zona Franca.</td>\n",
       "      <td>0</td>\n",
       "      <td>1</td>\n",
       "      <td>1</td>\n",
       "      <td>0</td>\n",
       "      <td>1</td>\n",
       "    </tr>\n",
       "  </tbody>\n",
       "</table>\n",
       "<p>189 rows × 6 columns</p>\n",
       "</div>"
      ],
      "text/plain": [
       "               Neighborhood  School  Gym  Bar  Shop  Park\n",
       "0            Adela de Char.       0    0    0     1     0\n",
       "1    Adelita de Char Etp. 2       1    0    1     1     0\n",
       "2                 Altamira.       1    1    0     1     1\n",
       "3          Altos de Riomar.       1    1    1     0     1\n",
       "4          Altos del Limón.       0    0    1     0     1\n",
       "..                      ...     ...  ...  ...   ...   ...\n",
       "184                Tayrona.       1    1    1     1     1\n",
       "185       Universal I y II.       0    1    0     0     1\n",
       "186           Villa Blanca.       0    1    1     1     1\n",
       "187       Villa del Carmen.       0    1    1     1     1\n",
       "188            Zona Franca.       0    1    1     0     1\n",
       "\n",
       "[189 rows x 6 columns]"
      ]
     },
     "execution_count": 2,
     "metadata": {},
     "output_type": "execute_result"
    }
   ],
   "source": [
    "df = pd.read_csv('./data/data.txt')\n",
    "\n",
    "df"
   ]
  },
  {
   "cell_type": "code",
   "execution_count": 3,
   "metadata": {},
   "outputs": [
    {
     "data": {
      "text/html": [
       "<div>\n",
       "<style scoped>\n",
       "    .dataframe tbody tr th:only-of-type {\n",
       "        vertical-align: middle;\n",
       "    }\n",
       "\n",
       "    .dataframe tbody tr th {\n",
       "        vertical-align: top;\n",
       "    }\n",
       "\n",
       "    .dataframe thead th {\n",
       "        text-align: right;\n",
       "    }\n",
       "</style>\n",
       "<table border=\"1\" class=\"dataframe\">\n",
       "  <thead>\n",
       "    <tr style=\"text-align: right;\">\n",
       "      <th></th>\n",
       "      <th>Neighborhood</th>\n",
       "      <th>School</th>\n",
       "      <th>Gym</th>\n",
       "      <th>Bar</th>\n",
       "      <th>Shop</th>\n",
       "      <th>Park</th>\n",
       "    </tr>\n",
       "  </thead>\n",
       "  <tbody>\n",
       "    <tr>\n",
       "      <th>3</th>\n",
       "      <td>Altos de Riomar.</td>\n",
       "      <td>1</td>\n",
       "      <td>1</td>\n",
       "      <td>1</td>\n",
       "      <td>0</td>\n",
       "      <td>1</td>\n",
       "    </tr>\n",
       "    <tr>\n",
       "      <th>17</th>\n",
       "      <td>Miramar.</td>\n",
       "      <td>1</td>\n",
       "      <td>1</td>\n",
       "      <td>1</td>\n",
       "      <td>1</td>\n",
       "      <td>1</td>\n",
       "    </tr>\n",
       "    <tr>\n",
       "      <th>24</th>\n",
       "      <td>Siape.</td>\n",
       "      <td>1</td>\n",
       "      <td>1</td>\n",
       "      <td>1</td>\n",
       "      <td>0</td>\n",
       "      <td>0</td>\n",
       "    </tr>\n",
       "    <tr>\n",
       "      <th>60</th>\n",
       "      <td>Las Delicias.</td>\n",
       "      <td>1</td>\n",
       "      <td>1</td>\n",
       "      <td>1</td>\n",
       "      <td>0</td>\n",
       "      <td>1</td>\n",
       "    </tr>\n",
       "    <tr>\n",
       "      <th>69</th>\n",
       "      <td>Paraíso.</td>\n",
       "      <td>1</td>\n",
       "      <td>1</td>\n",
       "      <td>1</td>\n",
       "      <td>0</td>\n",
       "      <td>1</td>\n",
       "    </tr>\n",
       "    <tr>\n",
       "      <th>76</th>\n",
       "      <td>7 de Abril.</td>\n",
       "      <td>1</td>\n",
       "      <td>1</td>\n",
       "      <td>1</td>\n",
       "      <td>1</td>\n",
       "      <td>0</td>\n",
       "    </tr>\n",
       "    <tr>\n",
       "      <th>89</th>\n",
       "      <td>Las Gardenias.</td>\n",
       "      <td>1</td>\n",
       "      <td>1</td>\n",
       "      <td>1</td>\n",
       "      <td>1</td>\n",
       "      <td>1</td>\n",
       "    </tr>\n",
       "    <tr>\n",
       "      <th>94</th>\n",
       "      <td>San Luis.</td>\n",
       "      <td>1</td>\n",
       "      <td>1</td>\n",
       "      <td>1</td>\n",
       "      <td>1</td>\n",
       "      <td>1</td>\n",
       "    </tr>\n",
       "    <tr>\n",
       "      <th>106</th>\n",
       "      <td>Carlos Meisel.</td>\n",
       "      <td>1</td>\n",
       "      <td>1</td>\n",
       "      <td>1</td>\n",
       "      <td>0</td>\n",
       "      <td>0</td>\n",
       "    </tr>\n",
       "    <tr>\n",
       "      <th>126</th>\n",
       "      <td>La Ceiba.</td>\n",
       "      <td>1</td>\n",
       "      <td>1</td>\n",
       "      <td>1</td>\n",
       "      <td>1</td>\n",
       "      <td>0</td>\n",
       "    </tr>\n",
       "    <tr>\n",
       "      <th>151</th>\n",
       "      <td>San Isidro</td>\n",
       "      <td>1</td>\n",
       "      <td>1</td>\n",
       "      <td>1</td>\n",
       "      <td>0</td>\n",
       "      <td>0</td>\n",
       "    </tr>\n",
       "    <tr>\n",
       "      <th>159</th>\n",
       "      <td>El Limón.</td>\n",
       "      <td>1</td>\n",
       "      <td>1</td>\n",
       "      <td>1</td>\n",
       "      <td>0</td>\n",
       "      <td>0</td>\n",
       "    </tr>\n",
       "    <tr>\n",
       "      <th>166</th>\n",
       "      <td>La Unión.</td>\n",
       "      <td>1</td>\n",
       "      <td>1</td>\n",
       "      <td>1</td>\n",
       "      <td>0</td>\n",
       "      <td>1</td>\n",
       "    </tr>\n",
       "    <tr>\n",
       "      <th>184</th>\n",
       "      <td>Tayrona.</td>\n",
       "      <td>1</td>\n",
       "      <td>1</td>\n",
       "      <td>1</td>\n",
       "      <td>1</td>\n",
       "      <td>1</td>\n",
       "    </tr>\n",
       "  </tbody>\n",
       "</table>\n",
       "</div>"
      ],
      "text/plain": [
       "         Neighborhood  School  Gym  Bar  Shop  Park\n",
       "3    Altos de Riomar.       1    1    1     0     1\n",
       "17           Miramar.       1    1    1     1     1\n",
       "24             Siape.       1    1    1     0     0\n",
       "60      Las Delicias.       1    1    1     0     1\n",
       "69           Paraíso.       1    1    1     0     1\n",
       "76        7 de Abril.       1    1    1     1     0\n",
       "89     Las Gardenias.       1    1    1     1     1\n",
       "94          San Luis.       1    1    1     1     1\n",
       "106    Carlos Meisel.       1    1    1     0     0\n",
       "126         La Ceiba.       1    1    1     1     0\n",
       "151        San Isidro       1    1    1     0     0\n",
       "159         El Limón.       1    1    1     0     0\n",
       "166         La Unión.       1    1    1     0     1\n",
       "184          Tayrona.       1    1    1     1     1"
      ]
     },
     "execution_count": 3,
     "metadata": {},
     "output_type": "execute_result"
    }
   ],
   "source": [
    "df.loc[(df['School']==1) & (df['Gym']==1) & (df['Bar']==1)]"
   ]
  },
  {
   "cell_type": "code",
   "execution_count": 4,
   "metadata": {},
   "outputs": [
    {
     "data": {
      "text/plain": [
       "189"
      ]
     },
     "execution_count": 4,
     "metadata": {},
     "output_type": "execute_result"
    }
   ],
   "source": [
    "num_neig = len(list(df['Neighborhood']))\n",
    "num_neig"
   ]
  },
  {
   "cell_type": "code",
   "execution_count": 5,
   "metadata": {},
   "outputs": [
    {
     "data": {
      "text/plain": [
       "[0, 0, 0, 1, 0]"
      ]
     },
     "execution_count": 5,
     "metadata": {},
     "output_type": "execute_result"
    }
   ],
   "source": [
    "list_prub = [list(df.iloc[i][1:]) for i in range(num_neig)]\n",
    "\n",
    "list_prub[0]"
   ]
  },
  {
   "cell_type": "code",
   "execution_count": 6,
   "metadata": {},
   "outputs": [],
   "source": [
    "# Forma 1\n",
    "list_nodes = []\n",
    "\n",
    "for i in range(num_neig):\n",
    "    nodo = Node(data=df.iloc[i][0], info=list_prub[i])\n",
    "    list_nodes.append(nodo)"
   ]
  },
  {
   "cell_type": "code",
   "execution_count": 7,
   "metadata": {},
   "outputs": [
    {
     "data": {
      "text/plain": [
       "Adela de Char.: [0, 0, 0, 1, 0]"
      ]
     },
     "execution_count": 7,
     "metadata": {},
     "output_type": "execute_result"
    }
   ],
   "source": [
    "# Forma 2\n",
    "list_nodes1 = [Node(data=df.iloc[i][0], info=list_prub[i]) for i in range(num_neig)]\n",
    "list_nodes1[0]"
   ]
  },
  {
   "cell_type": "code",
   "execution_count": 8,
   "metadata": {},
   "outputs": [],
   "source": [
    "def Menu() -> None: \n",
    "    print('\\t[+] Available places [+]\\n')\n",
    "    print('1) School')\n",
    "    print('2) Gym')\n",
    "    print('3) Bar')\n",
    "    print('4) Shop')\n",
    "    print('5) Park')\n",
    "    print('[PRESS 0 TO CLOSE MENU]')\n",
    "\n",
    "def Conditions(dec: int, listDec: list, availablePlaces: list) -> None:\n",
    "\n",
    "    if dec == 1:\n",
    "        if availablePlaces[0] in listDec:\n",
    "            print('This location is already chosen')\n",
    "        else:    \n",
    "            listDec.append(availablePlaces[0])\n",
    "    if dec == 2:\n",
    "        if availablePlaces[1] in listDec:\n",
    "            print('This location is already chosen')\n",
    "        else:\n",
    "            listDec.append(availablePlaces[1])\n",
    "        \n",
    "    if dec == 3:\n",
    "        if availablePlaces[2] in listDec:\n",
    "            print('This location is already chosen')\n",
    "        else:\n",
    "            listDec.append(availablePlaces[2])\n",
    "    if dec == 4:\n",
    "        if availablePlaces[3] in listDec:\n",
    "            print('This location is already chosen')\n",
    "        else:\n",
    "            listDec.append(availablePlaces[3])\n",
    "    if dec == 5:\n",
    "        if availablePlaces[4] in listDec:\n",
    "            print('This location is already chosen')\n",
    "        else:\n",
    "            listDec.append(availablePlaces[4])\n",
    "    if len(listDec) == 5:\n",
    "        print('You\\' chosen all the places.')"
   ]
  },
  {
   "cell_type": "code",
   "execution_count": 9,
   "metadata": {},
   "outputs": [
    {
     "name": "stdout",
     "output_type": "stream",
     "text": [
      "\t[+] Available places [+]\n",
      "\n",
      "1) School\n",
      "2) Gym\n",
      "3) Bar\n",
      "4) Shop\n",
      "5) Park\n",
      "[PRESS 0 TO CLOSE MENU]\n",
      "['School', 'Gym', 'Bar']\n"
     ]
    }
   ],
   "source": [
    "placesIn = list()\n",
    "places = ['School', 'Gym', 'Bar', 'Shop', 'Park']\n",
    "\n",
    "cont = input('Do you want to add places of your interest?\\t [y: Yes] [n: No]')\n",
    "\n",
    "if cont.lower() == 'y':\n",
    "    Menu()\n",
    "\n",
    "while cont.lower() == 'y':\n",
    "    answer = int(input('Select your places of interest'))\n",
    "    Conditions(answer, placesIn, places)\n",
    "    if answer == 0:\n",
    "        break\n",
    "    if len(placesIn) == 5:\n",
    "        break\n",
    "    \n",
    "    cont = input('Do you want to add a new area of your interest?\\t [y: Yes] [n: No]')\n",
    "    \n",
    "print(placesIn)"
   ]
  },
  {
   "cell_type": "code",
   "execution_count": 10,
   "metadata": {},
   "outputs": [],
   "source": [
    "class CreateList:\n",
    "    def __init__(self, lista: CircularLinkedList, df, num_neig: int) -> None:\n",
    "        self.n = num_neig\n",
    "        list_info = [list(df.iloc[k][1:]) for k in range(self.n)]\n",
    "        self.list_nodes = [Node(data=df.iloc[i][0], info=list_prub[i]) for i in range(self.n)]\n",
    "        \n",
    "        for k in range(len(self.list_nodes)):\n",
    "            lista.addNode(self.list_nodes[k])\n",
    "\n",
    "neighborhoodsList = CircularLinkedList()\n",
    "lista = CreateList(neighborhoodsList, df, num_neig)"
   ]
  },
  {
   "cell_type": "code",
   "execution_count": 11,
   "metadata": {},
   "outputs": [
    {
     "data": {
      "text/plain": [
       "Adela de Char. -> Adelita de Char Etp. 2 -> Altamira. -> Altos de Riomar. -> Altos del Limón. -> Altos del Prado. -> Andalucía. -> Buenavista. -> El Castillo I. -> El Golf. -> El Limoncito. -> El Poblado. -> Eduardo Santos. -> La Castellana. -> La Floresta. -> Las Flores. -> Las Tres Avemarías. -> Miramar. -> Paraíso. -> Riomar. -> San Marino. -> San Salvador. -> San Vicente. -> Santa Mónica. -> Siape. -> Solaire. -> Urbanización Eduardo santos la playa. -> Villa Campestre. -> Villa Carolina. -> Villa del Este. -> Villa Santos. -> Villamar. -> Villas del Puerto. -> América. -> Barlovento. -> Barranquillita. -> Barrio Abajo. -> Bellavista. -> Betania. -> Boston. -> Campo Alegre. -> Centro. -> Ciudad Jardín. -> Colombia. -> El Boliche. -> El Castillo. -> El Porvenir. -> El Prado. -> El Recreo. -> El Rosario. -> El Tabor. -> Granadillo. -> Zona Industrial Vía 40. -> La Bendición de Dios. -> La Campiña. -> La Concepción. -> La Cumbre. -> La Felicidad. -> La Loma. -> Las Colinas. -> Las Delicias. -> Las Mercedes. -> Los Alpes. -> Los Jobos. -> Los Nogales. -> Miramar. -> Modelo. -> Montecristo. -> Nuevo Horizonte. -> Paraíso. -> Parque Rosado. -> San Francisco. -> Santa Ana. -> Villa Country. -> Villa Tarel. -> Villanueva. -> 7 de Abril. -> 20 de Julio. -> Buenos Aires. -> Carrizal. -> Cevillar. -> Ciudadela 20 de Julio. -> El Santuario. -> Kennedy. -> La Sierra. -> La Sierrita. -> La Victoria. -> Las Américas. -> Las Cayenas. -> Las Gardenias. -> Las Granjas. -> Los Continentes. -> Los Girasoles. -> San José. -> San Luis. -> Santa María. -> Santo Domingo de Guzmán. -> Villa San Carlos. -> Villa San Pedro I. -> Villa San Pedro II. -> Villa Sevilla. -> 7 de Agosto. -> Bernando Hoyos -> Buena Esperanza. -> California. -> Caribe Verde. -> Carlos Meisel. -> Cevillar. -> Chiquinquirá. -> Ciudad Modesto. -> Colina Campestre. -> Cordialidad. -> Corrigimiento Juan Mina. -> Cuchilla de Villate. -> El Bosque. -> El Carmen. -> El Edén 2000. -> El Golfo. -> El Pueblo. -> El Recreo. -> El Romance. -> El Rubí. -> El Silencio. -> El Valle. -> Evaristo Sourdis. -> Kalamary. -> La Ceiba. -> La Esmeralda. -> La Florida. -> La Gloria. -> La Libertad. -> La Manga. -> La Paz. -> La Pradera. -> La Sierra. -> Las Colinas. -> Las Estrellas. -> Las Malvinas. -> Las Mercedes Sur. -> Las Terrazas. -> Lipaya. -> Loma Fresca. -> Los Andes. -> Los Olivos I. -> Los Olivos II. -> Los Pinos. -> Los Rosales. -> Lucero -> Mequejo. -> Olaya -> San Felipe -> San Isidro -> El Por Fin -> Alfonso López -> Atlántico. -> Bella Arena. -> Boyacá. -> Chiquinquirá. -> El Campito. -> El Limón. -> El Milagro. -> José Antonio Galán. -> La Alboraya. -> La Chinita. -> La Luz. -> La Magdalena. -> La Unión. -> La Victoria. -> Las Dunas. -> Las Nieves. -> Las Palmas. -> Las Palmeras. -> Los Laureles. -> Los Trupillos. -> Moderno. -> Montes. -> Pasadena. -> Primero de Mayo. -> Rebolo. -> San José. -> San Nicolás. -> San Roque. -> Santa Helena. -> Simón Bolívar. -> Tayrona. -> Universal I y II. -> Villa Blanca. -> Villa del Carmen. -> Zona Franca. -> Adela de Char."
      ]
     },
     "execution_count": 11,
     "metadata": {},
     "output_type": "execute_result"
    }
   ],
   "source": [
    "neighborhoodsList"
   ]
  },
  {
   "cell_type": "code",
   "execution_count": 12,
   "metadata": {},
   "outputs": [
    {
     "data": {
      "text/plain": [
       "Adela de Char.: [0, 0, 0, 1, 0]"
      ]
     },
     "execution_count": 12,
     "metadata": {},
     "output_type": "execute_result"
    }
   ],
   "source": [
    "neighborhoodsList.TAIL.next"
   ]
  },
  {
   "cell_type": "code",
   "execution_count": 13,
   "metadata": {},
   "outputs": [
    {
     "data": {
      "text/plain": [
       "189"
      ]
     },
     "execution_count": 13,
     "metadata": {},
     "output_type": "execute_result"
    }
   ],
   "source": [
    "neighborhoodsList.size"
   ]
  },
  {
   "cell_type": "code",
   "execution_count": 25,
   "metadata": {},
   "outputs": [
    {
     "name": "stdout",
     "output_type": "stream",
     "text": [
      "Zona Franca.: [0, 1, 1, 0, 1]\n",
      "Zona Franca.: [0, 1, 1, 0, 1]\n",
      "Zona Franca.: [0, 1, 1, 0, 1]\n",
      "Zona Franca.: [0, 1, 1, 0, 1]\n",
      "Zona Franca.: [0, 1, 1, 0, 1]\n",
      "Zona Franca.: [0, 1, 1, 0, 1]\n",
      "Zona Franca.: [0, 1, 1, 0, 1]\n",
      "Zona Franca.: [0, 1, 1, 0, 1]\n",
      "Zona Franca.: [0, 1, 1, 0, 1]\n",
      "Zona Franca.: [0, 1, 1, 0, 1]\n",
      "Zona Franca.: [0, 1, 1, 0, 1]\n",
      "Zona Franca.: [0, 1, 1, 0, 1]\n",
      "Zona Franca.: [0, 1, 1, 0, 1]\n",
      "Zona Franca.: [0, 1, 1, 0, 1]\n",
      "Zona Franca.: [0, 1, 1, 0, 1]\n",
      "Zona Franca.: [0, 1, 1, 0, 1]\n",
      "Zona Franca.: [0, 1, 1, 0, 1]\n",
      "Zona Franca.: [0, 1, 1, 0, 1]\n",
      "Zona Franca.: [0, 1, 1, 0, 1]\n",
      "Zona Franca.: [0, 1, 1, 0, 1]\n",
      "Zona Franca.: [0, 1, 1, 0, 1]\n",
      "Zona Franca.: [0, 1, 1, 0, 1]\n",
      "Zona Franca.: [0, 1, 1, 0, 1]\n",
      "Zona Franca.: [0, 1, 1, 0, 1]\n",
      "Zona Franca.: [0, 1, 1, 0, 1]\n",
      "Zona Franca.: [0, 1, 1, 0, 1]\n",
      "Zona Franca.: [0, 1, 1, 0, 1]\n",
      "Zona Franca.: [0, 1, 1, 0, 1]\n",
      "Zona Franca.: [0, 1, 1, 0, 1]\n",
      "Zona Franca.: [0, 1, 1, 0, 1]\n",
      "Zona Franca.: [0, 1, 1, 0, 1]\n",
      "Zona Franca.: [0, 1, 1, 0, 1]\n",
      "Zona Franca.: [0, 1, 1, 0, 1]\n",
      "Zona Franca.: [0, 1, 1, 0, 1]\n",
      "Zona Franca.: [0, 1, 1, 0, 1]\n",
      "Zona Franca.: [0, 1, 1, 0, 1]\n"
     ]
    }
   ],
   "source": [
    "n_pref = neighborhoodsList.size\n",
    "\n",
    "k=0\n",
    "\n",
    "try:\n",
    "    searching = neighborhoodsList.ROOT.next\n",
    "\n",
    "\n",
    "    while True:\n",
    "        searching = neighborhoodsList.ROOT.next\n",
    "\n",
    "        if neighborhoodsList.ROOT.info_neighborhood[k] != 1:    \n",
    "            neighborhoodsList.removeNode(neighborhoodsList.ROOT)\n",
    "            \n",
    "        while (searching != neighborhoodsList.TAIL.next):\n",
    "            if placesIn[k] == 'School':\n",
    "                if searching.info_neighborhood[0] != 1 or searching.info_neighborhood[:] == 1:\n",
    "                    temp = searching\n",
    "                    neighborhoodsList.removeNode(temp)\n",
    "            if placesIn[k] == 'Gym':\n",
    "                if searching.info_neighborhood[1] != 1:\n",
    "                    temp = searching\n",
    "                    neighborhoodsList.removeNode(temp)\n",
    "            if placesIn[k] == 'Bar':\n",
    "                if searching.info_neighborhood[2] != 1:\n",
    "                    temp = searching\n",
    "                    neighborhoodsList.removeNode(temp)\n",
    "            if placesIn[k] == 'Shop':\n",
    "                if searching.info_neighborhood[3] != 1:\n",
    "                    temp = searching\n",
    "                    neighborhoodsList.removeNode(temp)\n",
    "            if placesIn[k] == 'Park':\n",
    "                if searching.info_neighborhood[4] != 1:\n",
    "                    temp = searching\n",
    "                    neighborhoodsList.removeNode(temp)\n",
    "            \n",
    "            print(neighborhoodsList.TAIL)\n",
    "            searching = searching.next\n",
    "        k += 1\n",
    "        if k == len(placesIn):\n",
    "            break\n",
    "\n",
    "except IndexError:\n",
    "    print('Te pasaste')"
   ]
  },
  {
   "cell_type": "code",
   "execution_count": 23,
   "metadata": {},
   "outputs": [
    {
     "data": {
      "text/plain": [
       "Altos de Riomar. -> Siape. -> Las Delicias. -> Paraíso. -> 7 de Abril. -> Las Gardenias. -> San Luis. -> Carlos Meisel. -> La Ceiba. -> San Isidro -> El Limón. -> La Unión. -> Tayrona. -> Altos de Riomar."
      ]
     },
     "execution_count": 23,
     "metadata": {},
     "output_type": "execute_result"
    }
   ],
   "source": [
    "neighborhoodsList"
   ]
  },
  {
   "cell_type": "code",
   "execution_count": 24,
   "metadata": {},
   "outputs": [
    {
     "ename": "SyntaxError",
     "evalue": "invalid syntax (2752349210.py, line 1)",
     "output_type": "error",
     "traceback": [
      "\u001b[0;36m  Input \u001b[0;32mIn [24]\u001b[0;36m\u001b[0m\n\u001b[0;31m    neighborhoodsList.\u001b[0m\n\u001b[0m                      ^\u001b[0m\n\u001b[0;31mSyntaxError\u001b[0m\u001b[0;31m:\u001b[0m invalid syntax\n"
     ]
    }
   ],
   "source": []
  }
 ],
 "metadata": {
  "kernelspec": {
   "display_name": "Python 3.9.12",
   "language": "python",
   "name": "python3"
  },
  "language_info": {
   "codemirror_mode": {
    "name": "ipython",
    "version": 3
   },
   "file_extension": ".py",
   "mimetype": "text/x-python",
   "name": "python",
   "nbconvert_exporter": "python",
   "pygments_lexer": "ipython3",
   "version": "3.9.12"
  },
  "orig_nbformat": 4,
  "vscode": {
   "interpreter": {
    "hash": "857e546b835fff38b9f753f5e35f994d34bc6b6d918cec82a139461d85dafeec"
   }
  }
 },
 "nbformat": 4,
 "nbformat_minor": 2
}
