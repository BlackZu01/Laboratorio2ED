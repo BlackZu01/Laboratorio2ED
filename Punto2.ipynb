{
 "cells": [
  {
   "cell_type": "code",
   "execution_count": 1,
   "metadata": {},
   "outputs": [],
   "source": [
    "import pandas as pd\n",
    "from classes.CircularLinkedList import CircularLinkedList\n",
    "from classes.Node import Node"
   ]
  },
  {
   "cell_type": "code",
   "execution_count": 2,
   "metadata": {},
   "outputs": [
    {
     "data": {
      "text/html": [
       "<div>\n",
       "<style scoped>\n",
       "    .dataframe tbody tr th:only-of-type {\n",
       "        vertical-align: middle;\n",
       "    }\n",
       "\n",
       "    .dataframe tbody tr th {\n",
       "        vertical-align: top;\n",
       "    }\n",
       "\n",
       "    .dataframe thead th {\n",
       "        text-align: right;\n",
       "    }\n",
       "</style>\n",
       "<table border=\"1\" class=\"dataframe\">\n",
       "  <thead>\n",
       "    <tr style=\"text-align: right;\">\n",
       "      <th></th>\n",
       "      <th>Neighborhood</th>\n",
       "      <th>School</th>\n",
       "      <th>Gym</th>\n",
       "      <th>Bar</th>\n",
       "      <th>Shop</th>\n",
       "      <th>Park</th>\n",
       "    </tr>\n",
       "  </thead>\n",
       "  <tbody>\n",
       "    <tr>\n",
       "      <th>0</th>\n",
       "      <td>Adela de Char.</td>\n",
       "      <td>0</td>\n",
       "      <td>0</td>\n",
       "      <td>0</td>\n",
       "      <td>1</td>\n",
       "      <td>0</td>\n",
       "    </tr>\n",
       "    <tr>\n",
       "      <th>1</th>\n",
       "      <td>Adelita de Char Etp. 2</td>\n",
       "      <td>1</td>\n",
       "      <td>0</td>\n",
       "      <td>1</td>\n",
       "      <td>1</td>\n",
       "      <td>0</td>\n",
       "    </tr>\n",
       "    <tr>\n",
       "      <th>2</th>\n",
       "      <td>Altamira.</td>\n",
       "      <td>1</td>\n",
       "      <td>1</td>\n",
       "      <td>0</td>\n",
       "      <td>1</td>\n",
       "      <td>1</td>\n",
       "    </tr>\n",
       "    <tr>\n",
       "      <th>3</th>\n",
       "      <td>Altos de Riomar.</td>\n",
       "      <td>1</td>\n",
       "      <td>1</td>\n",
       "      <td>1</td>\n",
       "      <td>0</td>\n",
       "      <td>1</td>\n",
       "    </tr>\n",
       "    <tr>\n",
       "      <th>4</th>\n",
       "      <td>Altos del Limón.</td>\n",
       "      <td>0</td>\n",
       "      <td>0</td>\n",
       "      <td>1</td>\n",
       "      <td>0</td>\n",
       "      <td>1</td>\n",
       "    </tr>\n",
       "    <tr>\n",
       "      <th>...</th>\n",
       "      <td>...</td>\n",
       "      <td>...</td>\n",
       "      <td>...</td>\n",
       "      <td>...</td>\n",
       "      <td>...</td>\n",
       "      <td>...</td>\n",
       "    </tr>\n",
       "    <tr>\n",
       "      <th>184</th>\n",
       "      <td>Tayrona.</td>\n",
       "      <td>1</td>\n",
       "      <td>1</td>\n",
       "      <td>1</td>\n",
       "      <td>1</td>\n",
       "      <td>1</td>\n",
       "    </tr>\n",
       "    <tr>\n",
       "      <th>185</th>\n",
       "      <td>Universal I y II.</td>\n",
       "      <td>0</td>\n",
       "      <td>1</td>\n",
       "      <td>0</td>\n",
       "      <td>0</td>\n",
       "      <td>1</td>\n",
       "    </tr>\n",
       "    <tr>\n",
       "      <th>186</th>\n",
       "      <td>Villa Blanca.</td>\n",
       "      <td>0</td>\n",
       "      <td>1</td>\n",
       "      <td>1</td>\n",
       "      <td>1</td>\n",
       "      <td>1</td>\n",
       "    </tr>\n",
       "    <tr>\n",
       "      <th>187</th>\n",
       "      <td>Villa del Carmen.</td>\n",
       "      <td>0</td>\n",
       "      <td>1</td>\n",
       "      <td>1</td>\n",
       "      <td>1</td>\n",
       "      <td>1</td>\n",
       "    </tr>\n",
       "    <tr>\n",
       "      <th>188</th>\n",
       "      <td>Zona Franca.</td>\n",
       "      <td>0</td>\n",
       "      <td>1</td>\n",
       "      <td>1</td>\n",
       "      <td>0</td>\n",
       "      <td>1</td>\n",
       "    </tr>\n",
       "  </tbody>\n",
       "</table>\n",
       "<p>189 rows × 6 columns</p>\n",
       "</div>"
      ],
      "text/plain": [
       "               Neighborhood  School  Gym  Bar  Shop  Park\n",
       "0            Adela de Char.       0    0    0     1     0\n",
       "1    Adelita de Char Etp. 2       1    0    1     1     0\n",
       "2                 Altamira.       1    1    0     1     1\n",
       "3          Altos de Riomar.       1    1    1     0     1\n",
       "4          Altos del Limón.       0    0    1     0     1\n",
       "..                      ...     ...  ...  ...   ...   ...\n",
       "184                Tayrona.       1    1    1     1     1\n",
       "185       Universal I y II.       0    1    0     0     1\n",
       "186           Villa Blanca.       0    1    1     1     1\n",
       "187       Villa del Carmen.       0    1    1     1     1\n",
       "188            Zona Franca.       0    1    1     0     1\n",
       "\n",
       "[189 rows x 6 columns]"
      ]
     },
     "execution_count": 2,
     "metadata": {},
     "output_type": "execute_result"
    }
   ],
   "source": [
    "df = pd.read_csv('data.txt')\n",
    "\n",
    "df"
   ]
  },
  {
   "cell_type": "code",
   "execution_count": 4,
   "metadata": {},
   "outputs": [
    {
     "data": {
      "text/plain": [
       "189"
      ]
     },
     "execution_count": 4,
     "metadata": {},
     "output_type": "execute_result"
    }
   ],
   "source": [
    "num_neig = len(list(df['Neighborhood']))\n",
    "num_neig"
   ]
  },
  {
   "cell_type": "code",
   "execution_count": 5,
   "metadata": {},
   "outputs": [
    {
     "data": {
      "text/plain": [
       "[1, 0, 1, 1, 0]"
      ]
     },
     "execution_count": 5,
     "metadata": {},
     "output_type": "execute_result"
    }
   ],
   "source": [
    "list_prub = [list(df.iloc[i][1:]) for i in range(num_neig)]\n",
    "\n",
    "list_prub[1]"
   ]
  },
  {
   "cell_type": "code",
   "execution_count": 6,
   "metadata": {},
   "outputs": [],
   "source": [
    "# Forma 1\n",
    "list_nodes = []\n",
    "\n",
    "for i in range(num_neig):\n",
    "    nodo = Node(data=df.iloc[i][0], info=list_prub[i])\n",
    "    list_nodes.append(nodo)"
   ]
  },
  {
   "cell_type": "code",
   "execution_count": 7,
   "metadata": {},
   "outputs": [],
   "source": [
    "# Forma 2\n",
    "list_nodes1 = [Node(data=df.iloc[i][0], info=list_prub[i]) for i in range(num_neig)]"
   ]
  },
  {
   "cell_type": "code",
   "execution_count": 8,
   "metadata": {},
   "outputs": [],
   "source": [
    "def Menu() -> None: \n",
    "    print('\\t[+] Available places [+]\\n')\n",
    "    print('1) School')\n",
    "    print('2) Gym')\n",
    "    print('3) Bar')\n",
    "    print('4) Shop')\n",
    "    print('5) Park')\n",
    "    print('[PRESS 0 TO CLOSE MENU]')\n",
    "\n",
    "def Conditions(dec: int, listDec: list, availablePlaces: list) -> None:\n",
    "\n",
    "    if dec == 1:\n",
    "        if availablePlaces[0] in listDec:\n",
    "            print('This location is already chosen')\n",
    "        else:    \n",
    "            listDec.append(availablePlaces[0])\n",
    "    if dec == 2:\n",
    "        if availablePlaces[1] in listDec:\n",
    "            print('This location is already chosen')\n",
    "        else:\n",
    "            listDec.append(availablePlaces[1])\n",
    "        \n",
    "    if dec == 3:\n",
    "        if availablePlaces[2] in listDec:\n",
    "            print('This location is already chosen')\n",
    "        else:\n",
    "            listDec.append(availablePlaces[2])\n",
    "    if dec == 4:\n",
    "        if availablePlaces[3] in listDec:\n",
    "            print('This location is already chosen')\n",
    "        else:\n",
    "            listDec.append(availablePlaces[3])\n",
    "    if dec == 5:\n",
    "        if availablePlaces[4] in listDec:\n",
    "            print('This location is already chosen')\n",
    "        else:\n",
    "            listDec.append(availablePlaces[4])\n",
    "    if len(listDec) == 5:\n",
    "        print('You\\' chosen all the places.')\n",
    "    "
   ]
  },
  {
   "cell_type": "code",
   "execution_count": 9,
   "metadata": {},
   "outputs": [
    {
     "name": "stdout",
     "output_type": "stream",
     "text": [
      "\t[+] Available places [+]\n",
      "\n",
      "1) School\n",
      "2) Gym\n",
      "3) Bar\n",
      "4) Shop\n",
      "5) Park\n",
      "[PRESS 0 TO CLOSE MENU]\n",
      "['School', 'Shop']\n"
     ]
    }
   ],
   "source": [
    "placesIn = list()\n",
    "places = ['School', 'Gym', 'Bar', 'Shop', 'Park']\n",
    "\n",
    "cont = input('Do you want to add places of your interest?\\t [y: Yes] [n: No]')\n",
    "\n",
    "if cont.lower() == 'y':\n",
    "    Menu()\n",
    "\n",
    "while cont.lower() == 'y':\n",
    "    answer = int(input('Select your places of interest'))\n",
    "    Conditions(answer, placesIn, places)\n",
    "    if answer == 0:\n",
    "        break\n",
    "    if len(placesIn) == 5:\n",
    "        break\n",
    "    \n",
    "    cont = input('Do you want to add a new area of your interest?\\t [y: Yes] [n: No]')\n",
    "print(placesIn)"
   ]
  },
  {
   "cell_type": "code",
   "execution_count": 18,
   "metadata": {},
   "outputs": [],
   "source": [
    "class CreateList:\n",
    "    def __init__(self, lista: CircularLinkedList, df, num_neig: int) -> None:\n",
    "        self.n = num_neig\n",
    "        list_info = [list(df.iloc[k][1:]) for k in range(self.n)]\n",
    "        self.list_nodes = [Node(data=df.iloc[i][0], info=list_prub[i]) for i in range(self.n)]\n",
    "        \n",
    "        for k in range(len(self.list_nodes)):\n",
    "            lista.addNode(self.list_nodes[k])\n",
    "\n",
    "neighborhoodsList = CircularLinkedList()\n",
    "lista = CreateList(neighborhoodsList, df, num_neig)"
   ]
  },
  {
   "cell_type": "code",
   "execution_count": 20,
   "metadata": {},
   "outputs": [
    {
     "name": "stdout",
     "output_type": "stream",
     "text": [
      "Adelita de Char Etp. 2: [1, 0, 1, 1, 0]\n",
      "Altamira.: [1, 1, 0, 1, 1]\n",
      "Adela de Char.: [0, 0, 0, 1, 0]\n"
     ]
    }
   ],
   "source": [
    "print(neighborhoodsList.next())\n",
    "print(neighborhoodsList.next())\n",
    "print(neighborhoodsList.first()) # Retorna el primer nodo sin importar si ya me moví con .next()"
   ]
  },
  {
   "cell_type": "code",
   "execution_count": 22,
   "metadata": {},
   "outputs": [],
   "source": [
    "lista_empty = []\n",
    "\n",
    "currentNode = neighborhoodsList.first()\n",
    "while len(lista_empty) < 10:\n",
    "    break\n",
    "    currentNode = neighborhoodsList.next()"
   ]
  }
 ],
 "metadata": {
  "kernelspec": {
   "display_name": "Python 3.9.12",
   "language": "python",
   "name": "python3"
  },
  "language_info": {
   "codemirror_mode": {
    "name": "ipython",
    "version": 3
   },
   "file_extension": ".py",
   "mimetype": "text/x-python",
   "name": "python",
   "nbconvert_exporter": "python",
   "pygments_lexer": "ipython3",
   "version": "3.9.12"
  },
  "orig_nbformat": 4,
  "vscode": {
   "interpreter": {
    "hash": "857e546b835fff38b9f753f5e35f994d34bc6b6d918cec82a139461d85dafeec"
   }
  }
 },
 "nbformat": 4,
 "nbformat_minor": 2
}
